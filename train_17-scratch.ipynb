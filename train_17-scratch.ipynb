{
 "cells": [
  {
   "cell_type": "code",
   "execution_count": 1,
   "metadata": {},
   "outputs": [],
   "source": [
    "%matplotlib inline\n",
    "%reload_ext autoreload\n",
    "%autoreload 2"
   ]
  },
  {
   "cell_type": "code",
   "execution_count": 2,
   "metadata": {},
   "outputs": [],
   "source": [
    "from utils.imports import *\n",
    "PATH = Path('data/17')\n",
    "PATH.mkdir(exist_ok=True)\n",
    "path_x_512 = PATH/'preprocessed'/'2017B'\n",
    "path_y_512 = PATH/'preprocessed'/'b-class'\n",
    "path_stats = PATH/'preprocessed'/'2017B'/'stats.npy'\n",
    "\n",
    "sz = 512\n",
    "test_size = 0.2\n",
    "gpu_start = 8\n",
    "world_size = 2\n",
    "bs = world_size * 19\n",
    "num_workers = 4"
   ]
  },
  {
   "cell_type": "code",
   "execution_count": 3,
   "metadata": {},
   "outputs": [],
   "source": [
    "# load_name = 'data/landcover/models/long_run.h5'\n",
    "# load_name = 'data/17/models/4_long_run_cyc_0.h5'\n",
    "# pop_last_n = 2\n",
    "load_name = 'None'\n",
    "pop_last_n = 0\n",
    "%run train_17 {str(path_x_512)} {str(path_y_512)} {str(PATH)} {str(path_stats)}\\\n",
    "    {bs} {sz} {gpu_start} --world_size={world_size} --load_name={load_name} --pop_last_n={pop_last_n}"
   ]
  },
  {
   "cell_type": "code",
   "execution_count": null,
   "metadata": {},
   "outputs": [
    {
     "data": {
      "application/vnd.jupyter.widget-view+json": {
       "model_id": "8bf37731a7bb4886bdbf4bcca5a99dd7",
       "version_major": 2,
       "version_minor": 0
      },
      "text/plain": [
       "HBox(children=(IntProgress(value=0, description='Epoch', max=1), HTML(value='')))"
      ]
     },
     "metadata": {},
     "output_type": "display_data"
    },
    {
     "name": "stdout",
     "output_type": "stream",
     "text": [
      "  0%|          | 0/64 [00:00<?, ?it/s]"
     ]
    }
   ],
   "source": [
    "learner.lr_find()\n",
    "learner.sched.plot()"
   ]
  },
  {
   "cell_type": "markdown",
   "metadata": {},
   "source": [
    "## Train"
   ]
  },
  {
   "cell_type": "markdown",
   "metadata": {},
   "source": [
    "# restart training from scratch"
   ]
  },
  {
   "cell_type": "code",
   "execution_count": 4,
   "metadata": {},
   "outputs": [
    {
     "data": {
      "application/vnd.jupyter.widget-view+json": {
       "model_id": "8f04aaa4f2054ca3b5a7db3319df4a0e",
       "version_major": 2,
       "version_minor": 0
      },
      "text/plain": [
       "HBox(children=(IntProgress(value=0, description='Epoch', max=210), HTML(value='')))"
      ]
     },
     "metadata": {},
     "output_type": "display_data"
    },
    {
     "name": "stdout",
     "output_type": "stream",
     "text": [
      "epoch      trn_loss   val_loss   \n",
      "    0      1.821298   1.744398  \n",
      "    1      1.561755   1.338284  \n",
      "    2      1.296083   1.107762  \n",
      "    3      1.140589   1.070842  \n",
      "    4      1.02464    0.939851  \n",
      "    5      0.955204   0.869532  \n",
      "    6      0.903105   0.825239  \n",
      "    7      0.85131    0.817462  \n",
      "    8      0.826677   0.834309  \n",
      "    9      0.799408   0.748256  \n",
      "    10     0.773807   0.866802  \n",
      "    11     0.762147   0.735301  \n",
      "    12     0.752641   0.731689  \n",
      "    13     0.726988   0.78432   \n",
      "    14     0.721958   0.69585   \n",
      "    15     0.708209   0.739615  \n",
      "    16     0.701098   0.776162  \n",
      "    17     0.686084   0.681283  \n",
      "    18     0.671948   0.707286  \n",
      "    19     0.677753   0.754979  \n",
      "    20     0.681171   0.728039  \n",
      "    21     0.659462   0.708848  \n",
      "    22     0.658759   0.681175  \n",
      "    23     0.650379   0.685058  \n",
      "    24     0.640456   0.743297  \n",
      "    25     0.65449    0.680847  \n",
      "    26     0.650816   0.669062  \n",
      "    27     0.641775   0.674176  \n",
      "    28     0.628135   0.692953  \n",
      "    29     0.644595   0.692436  \n",
      "    30     0.647646   0.683792  \n",
      "    31     0.650306   0.702229  \n",
      "    32     0.633541   0.686622  \n",
      "    33     0.636878   0.681499  \n",
      "    34     0.619546   0.643031  \n",
      "    35     0.6162     0.704638  \n",
      "    36     0.623959   0.674566  \n",
      "    37     0.624734   0.64876   \n",
      "    38     0.617709   0.655982  \n",
      "    39     0.609898   0.676656  \n",
      "    40     0.630046   0.779416  \n",
      "    41     0.653777   0.82486   \n",
      "    42     0.650316   0.785239  \n",
      "    43     0.636286   0.647889  \n",
      "    44     0.607947   0.65254   \n",
      "    45     0.58666    0.629297  \n",
      "    46     0.572264   0.65201   \n",
      "    47     0.582955   0.67739   \n",
      "    48     0.58481    0.65071   \n",
      "    49     0.574651   0.680173  \n",
      "    50     0.573467   0.622998  \n",
      "    51     0.582502   0.682671  \n",
      "    52     0.584545   0.730868  \n",
      "    53     0.59324    0.623181  \n",
      "    54     0.560667   0.63458   \n",
      "    55     0.568345   0.65051   \n",
      "    56     0.65164    0.746531  \n",
      "    57     0.608008   0.648479  \n",
      "    58     0.602703   0.685894  \n",
      "    59     0.5956     0.71235   \n",
      "    60     0.600467   0.713954  \n",
      "    61     0.603763   0.652725  \n",
      "    62     0.588017   0.660327  \n",
      "    63     0.592979   0.826433  \n",
      "    64     0.616925   0.666318  \n",
      "    65     0.596999   0.632352  \n",
      "    66     0.56886    0.709684  \n",
      "    67     0.555653   0.744222  \n",
      "    68     0.564658   0.614855  \n",
      "    69     0.553215   0.964638  \n",
      "    70     0.566299   0.762687  \n",
      "    71     0.581621   0.650106  \n",
      "    72     0.57171    0.692948  \n",
      "    73     0.572317   0.64285   \n",
      "    74     0.562657   0.680702  \n",
      "    75     0.544663   0.631475  \n",
      "    76     0.540474   0.640059  \n",
      "    77     0.540076   0.673274  \n",
      "    78     0.577759   0.692968  \n",
      "    79     0.566625   0.656567  \n",
      "    80     0.547417   0.674921  \n",
      "    81     0.540555   0.656879  \n",
      "    82     0.54652    0.904195  \n",
      "    83     0.658898   0.795076  \n",
      "    84     0.621477   0.67311   \n",
      "    85     0.581762   0.649304  \n",
      "    86     0.561468   0.635845  \n",
      "    87     0.541553   0.61459   \n",
      "    88     0.538099   0.643352  \n",
      "    89     0.539391   0.651098  \n",
      "    90     0.545213   0.667987  \n",
      "    91     0.564027   0.673929  \n",
      "    92     0.569339   0.946529  \n",
      "    93     0.551281   0.623455  \n",
      "    94     0.533618   2.071078  \n",
      "    95     0.659569   0.72475   \n",
      "    96     0.63085    0.679704  \n",
      "    97     0.601981   0.645787  \n",
      "    98     0.567483   0.673902  \n",
      "    99     0.547137   0.635662  \n",
      "   100     0.538555   0.658013  \n",
      "   101     0.539451   0.640368  \n",
      "   102     0.549522   0.640367  \n",
      "   103     0.570047   0.71251   \n",
      "   104     0.572982   0.642393  \n",
      "   105     0.561079   0.865237  \n",
      "   106     0.64584    0.650592  \n",
      "   107     0.595636   0.660102  \n",
      "   108     0.567091   0.630383  \n",
      "   109     0.544528   0.627313  \n",
      "   110     0.526885   0.726349  \n",
      "   111     0.545584   0.994317  \n",
      "   112     0.555233   1.105331  \n",
      "   113     0.650718   0.672114  \n",
      "   114     0.593914   0.644472  \n",
      "   115     0.551232   0.630851  \n",
      "   116     0.522721   0.592318  \n",
      "   117     0.5143     0.620869  \n",
      "   118     0.499521   0.647069  \n",
      "   119     0.490643   0.601919  \n",
      "   120     0.505085   0.623751  \n",
      "   121     0.505485   0.625275  \n",
      "   122     0.491828   0.620736  \n",
      "   123     0.487006   0.604578  \n",
      "   124     0.486626   1.365876  \n",
      "   125     0.665482   0.783907  \n",
      "   126     0.62084    0.643086  \n",
      "   127     0.582681   0.616512  \n",
      "   128     0.564507   0.64588   \n",
      "   129     0.522901   0.625656  \n",
      "   130     0.50827    0.591866  \n",
      "   131     0.521786   0.622847  \n",
      "   132     0.50838    0.599691  \n",
      "   133     0.489631   0.617348  \n",
      "   134     0.490948   0.63062   \n",
      "   135     0.488393   0.702874  \n",
      "   136     0.507677   0.631373  \n",
      "   137     0.48724    0.622233  \n",
      "   138     0.475746   0.603003  \n",
      "   139     0.473404   0.628436  \n",
      "   140     0.459512   0.640436  \n",
      "   141     0.473035   0.598059  \n",
      "   142     0.47287    0.612447  \n",
      "   143     0.482255   0.60848   \n",
      "   144     0.493432   0.605462  \n",
      "   145     0.470443   0.576522  \n",
      "   146     0.457376   0.607213  \n",
      "   147     0.448093   0.599237  \n",
      "   148     0.436982   0.572863  \n",
      "   149     0.421756   0.583333  \n",
      "   150     0.413957   0.592951  \n",
      "   151     0.417855   0.563347  \n",
      "   152     0.423014   0.605409  \n",
      "   153     0.419636   0.586522  \n",
      "   154     0.418845   0.587079  \n",
      "   155     0.433687   0.593569  \n",
      "   156     0.424333   0.59034   \n",
      "   157     0.40287    0.583766  \n",
      "   158     0.402808   0.584504  \n",
      "   159     0.422514   0.580459  \n",
      "   160     0.410671   0.580498  \n",
      "   161     0.42114    0.639138  \n",
      "   162     0.478778   0.588184  \n",
      "   163     0.441671   0.588694  \n",
      "   164     0.415005   0.601366  \n",
      "   165     0.404471   0.574363  \n",
      "   166     0.389655   0.57555   \n",
      "   167     0.383451   0.572955  \n",
      "   168     0.396886   0.592867  \n",
      "   169     0.397059   0.579675  \n",
      "   170     0.378496   0.591438  \n",
      "   171     0.370625   0.579719  \n",
      "   172     0.372005   0.578807  \n",
      "   173     0.357709   0.579006  \n",
      "   174     0.351301   0.577377  \n",
      "   175     0.364887   0.592534  \n",
      "   176     0.355125   0.574244  \n",
      "   177     0.349863   0.575206  \n",
      "   178     0.33557    0.589815  \n",
      "   179     0.327785   0.587818  \n",
      "   180     0.322467   0.57942   \n",
      "   181     0.317745   0.588237  \n",
      "   182     0.315579   0.594397  \n",
      "   183     0.318102   0.59598   \n",
      "   184     0.32359    0.589741  \n",
      "   185     0.317048   0.585887  \n",
      "   186     0.314037   0.594696  \n",
      "   187     0.313734   0.590094  \n",
      "   188     0.311567   0.596274  \n",
      "   189     0.305858   0.603188  \n",
      "   190     0.302625   0.610741  \n",
      "   191     0.297753   0.601162  \n",
      "   192     0.296937   0.611326  \n",
      "   193     0.300834   0.601086  \n",
      "   194     0.296075   0.608693  \n",
      "   195     0.292395   0.603565  \n",
      "   196     0.292252   0.614075  \n",
      "   197     0.291272   0.619797  \n",
      "   198     0.295028   0.610869  \n",
      "   199     0.289667   0.611594  \n",
      "   200     0.28932    0.617327  \n",
      "   201     0.290805   0.618623  \n",
      "   202     0.287577   0.625471  \n",
      "   203     0.286985   0.617876  \n",
      "   204     0.285987   0.615034  \n",
      "   205     0.283014   0.615912  \n",
      "   206     0.282605   0.625315  \n",
      "   207     0.278454   0.616188  \n",
      "   208     0.279407   0.626326  \n",
      "   209     0.280784   0.611228  \n",
      "\n"
     ]
    },
    {
     "data": {
      "image/png": "[encoded data removed]",
      "text/plain": [
       "<Figure size 432x288 with 1 Axes>"
      ]
     },
     "metadata": {
      "needs_background": "light"
     },
     "output_type": "display_data"
    },
    {
     "data": {
      "image/png": "[encoded data removed]",
      "text/plain": [
       "<Figure size 864x288 with 2 Axes>"
      ]
     },
     "metadata": {
      "needs_background": "light"
     },
     "output_type": "display_data"
    }
   ],
   "source": [
    "lr = 3*1e-1\n",
    "sargs = save_args('scratch', PATH)\n",
    "learner.fit(lr, 1, cycle_len=70*3, use_clr_beta=(20, 13.68, 0.95, 0.85), wds=1e-4, **sargs)\n",
    "save_sched(learner.sched, PATH)"
   ]
  },
  {
   "cell_type": "code",
   "execution_count": null,
   "metadata": {},
   "outputs": [],
   "source": []
  }
 ],
 "metadata": {
  "kernelspec": {
   "display_name": "Python 3",
   "language": "python",
   "name": "python3"
  },
  "language_info": {
   "codemirror_mode": {
    "name": "ipython",
    "version": 3
   },
   "file_extension": ".py",
   "mimetype": "text/x-python",
   "name": "python",
   "nbconvert_exporter": "python",
   "pygments_lexer": "ipython3",
   "version": "3.6.6"
  }
 },
 "nbformat": 4,
 "nbformat_minor": 2
}
