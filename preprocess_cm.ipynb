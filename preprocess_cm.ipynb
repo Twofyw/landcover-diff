{
 "cells": [
  {
   "cell_type": "code",
   "execution_count": 1,
   "metadata": {},
   "outputs": [],
   "source": [
    "%matplotlib inline\n",
    "%reload_ext autoreload\n",
    "%autoreload 2"
   ]
  },
  {
   "cell_type": "code",
   "execution_count": 2,
   "metadata": {},
   "outputs": [],
   "source": [
    "from preprocessing import *"
   ]
  },
  {
   "cell_type": "code",
   "execution_count": 3,
   "metadata": {},
   "outputs": [],
   "source": [
    "PATH = Path('data/preprocessed/cm'); PATH.mkdir(exist_ok=True, parents=True)\n",
    "path_x_1 = Path('data/17/17-18BC/cm/2017nian/')\n",
    "path_x_2 = Path('data/17/17-18BC/cm/2018nian/')\n",
    "path_y = Path('data/17/17-18BC/cm/label/')\n",
    "\n",
    "path_save_x_1 = PATH/'2017'\n",
    "path_save_x_2 = PATH/'2018'\n",
    "path_save_y = PATH/'labels'\n",
    "path_stats = PATH/'stats.npy'"
   ]
  },
  {
   "cell_type": "code",
   "execution_count": 4,
   "metadata": {},
   "outputs": [],
   "source": [
    "fns_x_1, fns_x_2 = sorted(path_x_1.iterdir()), sorted(path_x_2.iterdir())\n",
    "fns_x = list(zip(fns_x_1, fns_x_2))\n",
    "assert all([o[0].name == o[1].name] for o in fns_x)\n",
    "fns_y = sorted([o for o in path_y.iterdir() if o.name[0] != '.'])\n",
    "assert len(fns_y) == len(fns_x_1) == len(fns_x_2), 'fns_y: {}, fns_x_1: {}, fns_x_2: {}'.format(len(fns_y), len(fns_x_1), len(fns_x_2))"
   ]
  },
  {
   "cell_type": "code",
   "execution_count": 5,
   "metadata": {},
   "outputs": [
    {
     "data": {
      "application/vnd.jupyter.widget-view+json": {
       "model_id": "e6e909ee8d2f427ea43d3dc8fbf89dd6",
       "version_major": 2,
       "version_minor": 0
      },
      "text/plain": [
       "HBox(children=(IntProgress(value=0, max=25), HTML(value='')))"
      ]
     },
     "metadata": {},
     "output_type": "display_data"
    },
    {
     "name": "stdout",
     "output_type": "stream",
     "text": [
      "overlap_p:  0 n_side:  10 pad:  0\n",
      "overlap_p:  0 n_side:  10 pad:  0\n",
      "overlap_p:  0 n_side:  10 pad:  0\n",
      "overlap_p:  0 n_side:  10 pad:  0\n",
      "overlap_p:  0 n_side:  10 pad:  0\n",
      "overlap_p:  0 n_side:  10 pad:  0\n",
      "overlap_p:  0 n_side:  10 pad:  0\n",
      "overlap_p:  0 n_side:  10 pad:  0\n",
      "overlap_p:  0 n_side:  10 pad:  0\n",
      "overlap_p:  0 n_side:  10 pad:  0\n",
      "overlap_p:  0 n_side:  10 pad:  0\n",
      "overlap_p:  0 n_side:  10 pad:  0\n",
      "overlap_p:  0 n_side:  10 pad:  0\n",
      "overlap_p:  0 n_side:  10 pad:  0\n",
      "overlap_p:  0 n_side:  10 pad:  0\n",
      "overlap_p:  0 n_side:  10 pad:  0\n",
      "overlap_p:  0 n_side:  10 pad:  0\n",
      "overlap_p:  0 n_side:  10 pad:  0\n",
      "overlap_p:  0 n_side:  10 pad:  0\n",
      "overlap_p:  0 n_side:  10 pad:  0\n",
      "overlap_p:  0 n_side:  10 pad:  0\n",
      "overlap_p:  0 n_side:  10 pad:  0\n",
      "overlap_p:  0 n_side:  10 pad:  0\n",
      "overlap_p:  0 n_side:  10 pad:  0\n",
      "overlap_p:  0 n_side:  10 pad:  0\n",
      "100 patchs saved to data/preprocessed/cm/2017 for img A25.png\n",
      "\n",
      "100 patchs saved to data/preprocessed/cm/2017 for img A23.png\n",
      "\n",
      "100 patchs saved to data/preprocessed/cm/2017 for img A33.png\n",
      "100 patchs saved to data/preprocessed/cm/2017 for img A34.png\n",
      "\n",
      "\n",
      "100 patchs saved to data/preprocessed/cm/2017 for img A13.png\n",
      "\n",
      "100 patchs saved to data/preprocessed/cm/2017 for img A53.png\n",
      "\n",
      "100 patchs saved to data/preprocessed/cm/2017 for img A24.png\n",
      "\n",
      "100 patchs saved to data/preprocessed/cm/2017 for img A35.png\n",
      "\n",
      "100 patchs saved to data/preprocessed/cm/2017 for img A15.png\n",
      "\n",
      "100 patchs saved to data/preprocessed/cm/2017 for img A21.png\n",
      "\n",
      "100 patchs saved to data/preprocessed/cm/2017 for img A55.png\n",
      "\n",
      "100 patchs saved to data/preprocessed/cm/2017 for img A32.png\n",
      "\n",
      "100 patchs saved to data/preprocessed/cm/2017 for img A42.png\n",
      "\n",
      "100 patchs saved to data/preprocessed/cm/2017 for img A54.png\n",
      "\n",
      "100 patchs saved to data/preprocessed/cm/2017 for img A51.png\n",
      "\n",
      "100 patchs saved to data/preprocessed/cm/2017 for img A52.png\n",
      "\n",
      "100 patchs saved to data/preprocessed/cm/2017 for img A45.png\n",
      "\n",
      "100 patchs saved to data/preprocessed/cm/2017 for img A12.png\n",
      "\n",
      "100 patchs saved to data/preprocessed/cm/2017 for img A22.png\n",
      "\n",
      "100 patchs saved to data/preprocessed/cm/2017 for img A41.png\n",
      "\n",
      "100 patchs saved to data/preprocessed/cm/2017 for img A11.png\n",
      "\n",
      "100 patchs saved to data/preprocessed/cm/2017 for img A44.png\n",
      "\n",
      "100 patchs saved to data/preprocessed/cm/2017 for img A31.png\n",
      "\n",
      "100 patchs saved to data/preprocessed/cm/2017 for img A14.png\n",
      "\n",
      "100 patchs saved to data/preprocessed/cm/2017 for img A43.png\n",
      "\n",
      "\n"
     ]
    },
    {
     "data": {
      "application/vnd.jupyter.widget-view+json": {
       "model_id": "0a0a547f6c514558a6db57d78607777b",
       "version_major": 2,
       "version_minor": 0
      },
      "text/plain": [
       "HBox(children=(IntProgress(value=0, max=25), HTML(value='')))"
      ]
     },
     "metadata": {},
     "output_type": "display_data"
    },
    {
     "name": "stdout",
     "output_type": "stream",
     "text": [
      "overlap_p:  0 n_side:  10 pad:  0\n",
      "overlap_p:  0 n_side:  10 pad:  0\n",
      "overlap_p:  0 n_side:  10 pad:  0\n",
      "overlap_p:  0 n_side:  10 pad:  0\n",
      "overlap_p:  0 n_side:  10 pad:  0\n",
      "overlap_p:  0 n_side:  10 pad:  0\n",
      "overlap_p:  0 n_side:  10 pad:  0\n",
      "overlap_p:  0 n_side:  10 pad:  0\n",
      "overlap_p:  0 n_side:  10 pad:  0\n",
      "overlap_p:  0 n_side:  10 pad:  0\n",
      "overlap_p:  0 n_side:  10 pad:  0\n",
      "overlap_p:  0 n_side:  10 pad:  0\n",
      "overlap_p:  0 n_side:  10 pad:  0\n",
      "overlap_p:  0 n_side:  10 pad:  0\n",
      "overlap_p:  0 n_side:  10 pad:  0\n",
      "overlap_p:  0 n_side:  10 pad:  0\n",
      "overlap_p:  0 n_side:  10 pad:  0\n",
      "overlap_p:  0 n_side:  10 pad:  0\n",
      "overlap_p:  0 n_side:  10 pad:  0\n",
      "overlap_p:  0 n_side:  10 pad:  0\n",
      "overlap_p:  0 n_side:  10 pad:  0\n",
      "overlap_p:  0 n_side:  10 pad:  0\n",
      "overlap_p:  0 n_side:  10 pad:  0\n",
      "overlap_p:  0 n_side:  10 pad:  0\n",
      "overlap_p:  0 n_side:  10 pad:  0\n",
      "100 patchs saved to data/preprocessed/cm/2018 for img A55.png\n",
      "\n",
      "100 patchs saved to data/preprocessed/cm/2018 for img A41.png\n",
      "\n",
      "100 patchs saved to data/preprocessed/cm/2018 for img A23.png\n",
      "\n",
      "100 patchs saved to data/preprocessed/cm/2018 for img A35.png\n",
      "\n",
      "100 patchs saved to data/preprocessed/cm/2018 for img A13.png\n",
      "\n",
      "100 patchs saved to data/preprocessed/cm/2018 for img A14.png\n",
      "\n",
      "100 patchs saved to data/preprocessed/cm/2018 for img A44.png\n",
      "\n",
      "100 patchs saved to data/preprocessed/cm/2018 for img A32.png\n",
      "\n",
      "100 patchs saved to data/preprocessed/cm/2018 for img A33.png\n",
      "\n",
      "100 patchs saved to data/preprocessed/cm/2018 for img A34.png\n",
      "\n",
      "100 patchs saved to data/preprocessed/cm/2018 for img A15.png\n",
      "\n",
      "100 patchs saved to data/preprocessed/cm/2018 for img A11.png\n",
      "\n",
      "100 patchs saved to data/preprocessed/cm/2018 for img A22.png\n",
      "\n",
      "100 patchs saved to data/preprocessed/cm/2018 for img A31.png\n",
      "\n",
      "100 patchs saved to data/preprocessed/cm/2018 for img A42.png\n",
      "\n",
      "100 patchs saved to data/preprocessed/cm/2018 for img A21.png\n",
      "\n",
      "100 patchs saved to data/preprocessed/cm/2018 for img A24.png\n",
      "\n",
      "100 patchs saved to data/preprocessed/cm/2018 for img A52.png\n",
      "\n",
      "100 patchs saved to data/preprocessed/cm/2018 for img A45.png\n",
      "\n",
      "100 patchs saved to data/preprocessed/cm/2018 for img A25.png\n",
      "\n",
      "100 patchs saved to data/preprocessed/cm/2018 for img A43.png\n",
      "\n",
      "100 patchs saved to data/preprocessed/cm/2018 for img A51.png\n",
      "\n",
      "100 patchs saved to data/preprocessed/cm/2018 for img A53.png\n",
      "\n",
      "100 patchs saved to data/preprocessed/cm/2018 for img A12.png\n",
      "\n",
      "100 patchs saved to data/preprocessed/cm/2018 for img A54.png\n",
      "\n",
      "\n",
      "CPU times: user 400 ms, sys: 931 ms, total: 1.33 s\n",
      "Wall time: 43.3 s\n"
     ]
    }
   ],
   "source": [
    "%%time\n",
    "parallel_crop_and_save(fns_x_1, path_save_x_1, overlap=0)\n",
    "parallel_crop_and_save(fns_x_2, path_save_x_2, overlap=0)"
   ]
  },
  {
   "cell_type": "code",
   "execution_count": 6,
   "metadata": {},
   "outputs": [
    {
     "data": {
      "application/vnd.jupyter.widget-view+json": {
       "model_id": "102df652344149e68dbda89b8043b8e6",
       "version_major": 2,
       "version_minor": 0
      },
      "text/plain": [
       "HBox(children=(IntProgress(value=0, max=25), HTML(value='')))"
      ]
     },
     "metadata": {},
     "output_type": "display_data"
    },
    {
     "name": "stdout",
     "output_type": "stream",
     "text": [
      "overlap_p:  0 n_side:  10 pad:  0\n",
      "overlap_p:  0 n_side:  10 pad:  0\n",
      "overlap_p:  0 n_side:  10 pad:  0\n",
      "overlap_p:  0 n_side:  10 pad:  0\n",
      "overlap_p:  0 n_side:  10 pad:  0\n",
      "100 patchs saved to data/preprocessed/cm/labels for img A15.tif\n",
      "\n",
      "100 patchs saved to data/preprocessed/cm/labels for img A24.tif\n",
      "\n",
      "100 patchs saved to data/preprocessed/cm/labels for img A43.tif\n",
      "\n",
      "100 patchs saved to data/preprocessed/cm/labels for img A34.tif\n",
      "\n",
      "100 patchs saved to data/preprocessed/cm/labels for img A53.tif\n",
      "\n",
      "overlap_p:  0 n_side:  10 pad:  0\n",
      "overlap_p:  0 n_side:  10 pad:  0\n",
      "overlap_p:  0 n_side:  10 pad:  0\n",
      "overlap_p:  0 n_side:  10 pad:  0\n",
      "overlap_p:  0 n_side:  10 pad:  0\n",
      "overlap_p:  0 n_side:  10 pad:  0\n",
      "overlap_p:  0 n_side:  10 pad:  0\n",
      "overlap_p:  0 n_side:  10 pad:  0\n",
      "overlap_p:  0 n_side:  10 pad:  0\n",
      "overlap_p:  0 n_side:  10 pad:  0\n",
      "overlap_p:  0 n_side:  10 pad:  0\n",
      "overlap_p:  0 n_side:  10 pad:  0\n",
      "overlap_p:  0 n_side:  10 pad:  0\n",
      "overlap_p:  0 n_side:  10 pad:  0\n",
      "overlap_p:  0 n_side:  10 pad:  0\n",
      "overlap_p:  0 n_side:  10 pad:  0\n",
      "overlap_p:  0 n_side:  10 pad:  0\n",
      "overlap_p:  0 n_side:  10 pad:  0\n",
      "overlap_p:  0 n_side:  10 pad:  0\n",
      "overlap_p:  0 n_side:  10 pad:  0\n",
      "100 patchs saved to data/preprocessed/cm/labels for img A55.tif\n",
      "\n",
      "100 patchs saved to data/preprocessed/cm/labels for img A52.tif\n",
      "\n",
      "100 patchs saved to data/preprocessed/cm/labels for img A22.tif\n",
      "\n",
      "100 patchs saved to data/preprocessed/cm/labels for img A13.tif\n",
      "100 patchs saved to data/preprocessed/cm/labels for img A21.tif\n",
      "\n",
      "\n",
      "100 patchs saved to data/preprocessed/cm/labels for img A35.tif\n",
      "100 patchs saved to data/preprocessed/cm/labels for img A45.tif\n",
      "\n",
      "\n",
      "100 patchs saved to data/preprocessed/cm/labels for img A33.tif\n",
      "\n",
      "100 patchs saved to data/preprocessed/cm/labels for img A11.tif\n",
      "\n",
      "100 patchs saved to data/preprocessed/cm/labels for img A44.tif\n",
      "100 patchs saved to data/preprocessed/cm/labels for img A32.tif\n",
      "100 patchs saved to data/preprocessed/cm/labels for img A51.tif\n",
      "\n",
      "\n",
      "\n",
      "100 patchs saved to data/preprocessed/cm/labels for img A23.tif\n",
      "100 patchs saved to data/preprocessed/cm/labels for img A42.tif\n",
      "\n",
      "\n",
      "100 patchs saved to data/preprocessed/cm/labels for img A14.tif\n",
      "\n",
      "100 patchs saved to data/preprocessed/cm/labels for img A31.tif\n",
      "100 patchs saved to data/preprocessed/cm/labels for img A54.tif\n",
      "\n",
      "\n",
      "100 patchs saved to data/preprocessed/cm/labels for img A41.tif\n",
      "100 patchs saved to data/preprocessed/cm/labels for img A12.tif\n",
      "\n",
      "\n",
      "100 patchs saved to data/preprocessed/cm/labels for img A25.tif\n",
      "\n",
      "\n"
     ]
    }
   ],
   "source": [
    "parallel_crop_and_save(fns_y, path_save_y, overlap=0, grayscale=True,\n",
    "                       preprocess_fs=filter_label_cm, \n",
    "                       recreate_target_path=True, num_workers=None)"
   ]
  },
  {
   "cell_type": "code",
   "execution_count": 6,
   "metadata": {},
   "outputs": [
    {
     "data": {
      "text/plain": [
       "(array([0.351031, 0.407219, 0.330467], dtype=float32),\n",
       " array([0.147196, 0.128786, 0.125377], dtype=float32))"
      ]
     },
     "execution_count": 6,
     "metadata": {},
     "output_type": "execute_result"
    }
   ],
   "source": [
    "dir_parallel_mean_std([path_x_1, path_x_2], fn_stats=path_stats)"
   ]
  },
  {
   "cell_type": "code",
   "execution_count": null,
   "metadata": {},
   "outputs": [],
   "source": []
  },
  {
   "cell_type": "code",
   "execution_count": null,
   "metadata": {},
   "outputs": [],
   "source": []
  }
 ],
 "metadata": {
  "kernelspec": {
   "display_name": "Python 3",
   "language": "python",
   "name": "python3"
  },
  "language_info": {
   "codemirror_mode": {
    "name": "ipython",
    "version": 3
   },
   "file_extension": ".py",
   "mimetype": "text/x-python",
   "name": "python",
   "nbconvert_exporter": "python",
   "pygments_lexer": "ipython3",
   "version": "3.7.0"
  }
 },
 "nbformat": 4,
 "nbformat_minor": 2
}
