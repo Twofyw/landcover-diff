{
 "cells": [
  {
   "cell_type": "code",
   "execution_count": 5,
   "metadata": {},
   "outputs": [],
   "source": [
    "%matplotlib inline\n",
    "%reload_ext autoreload\n",
    "%autoreload 2"
   ]
  },
  {
   "cell_type": "code",
   "execution_count": 6,
   "metadata": {},
   "outputs": [],
   "source": [
    "from utils.imports import *\n",
    "from baseline_direct_subtraction import *\n",
    "\n",
    "# get legend\n",
    "from dataloader_17 import py_labels as labels\n",
    "a_labels = list(labels.values())\n",
    "a_labels.insert(0, 'Unknown')\n",
    "a_labels = np.array(a_labels)\n",
    "# label_patches = get_legend(a_labels)\n",
    "\n",
    "PATH = Path('data/cm')\n",
    "path_x_512_1 = PATH/'2017'\n",
    "path_x_512_2 = PATH/'2018'\n",
    "path_y_512 = PATH/'labels'\n",
    "path_test_x_512_1 = path_x_512_1\n",
    "path_test_x_512_2 = path_x_512_2\n",
    "path_stats = PATH/'stats.npy'\n",
    "\n",
    "sz = 512\n",
    "test_size = 0.2\n",
    "gpu_start = 7\n",
    "world_size = 1\n",
    "bs = world_size * 20\n",
    "num_workers = 0"
   ]
  },
  {
   "cell_type": "code",
   "execution_count": null,
   "metadata": {},
   "outputs": [
    {
     "name": "stdout",
     "output_type": "stream",
     "text": [
      "--Return--\n",
      "None\n",
      "> \u001b[0;32m/data/ywx/home/landcover-diff/dataloader_cm.py\u001b[0m(12)\u001b[0;36m__init__\u001b[0;34m()\u001b[0m\n",
      "\u001b[0;32m     10 \u001b[0;31m        \u001b[0mself\u001b[0m\u001b[0;34m.\u001b[0m\u001b[0mtransform_no\u001b[0m\u001b[0;34m.\u001b[0m\u001b[0mtfms\u001b[0m \u001b[0;34m=\u001b[0m \u001b[0;34m[\u001b[0m\u001b[0mo\u001b[0m \u001b[0;32mfor\u001b[0m \u001b[0mo\u001b[0m \u001b[0;32min\u001b[0m \u001b[0mtransform\u001b[0m\u001b[0;34m.\u001b[0m\u001b[0mtfms\u001b[0m\u001b[0;34m]\u001b[0m\u001b[0;34m\u001b[0m\u001b[0m\n",
      "\u001b[0m\u001b[0;32m     11 \u001b[0;31m        \u001b[0;32mfor\u001b[0m \u001b[0mo\u001b[0m \u001b[0;32min\u001b[0m \u001b[0mself\u001b[0m\u001b[0;34m.\u001b[0m\u001b[0mtransform_no\u001b[0m\u001b[0;34m.\u001b[0m\u001b[0mtfms\u001b[0m\u001b[0;34m:\u001b[0m \u001b[0mo\u001b[0m\u001b[0;34m.\u001b[0m\u001b[0mtfm_y\u001b[0m \u001b[0;34m=\u001b[0m \u001b[0mTfmType\u001b[0m\u001b[0;34m.\u001b[0m\u001b[0mNO\u001b[0m\u001b[0;34m\u001b[0m\u001b[0m\n",
      "\u001b[0m\u001b[0;32m---> 12 \u001b[0;31m        \u001b[0mset_trace\u001b[0m\u001b[0;34m(\u001b[0m\u001b[0;34m)\u001b[0m\u001b[0;34m\u001b[0m\u001b[0m\n",
      "\u001b[0m\u001b[0;32m     13 \u001b[0;31m\u001b[0;34m\u001b[0m\u001b[0m\n",
      "\u001b[0m\u001b[0;32m     14 \u001b[0;31m    \u001b[0;32mdef\u001b[0m \u001b[0mget_x\u001b[0m\u001b[0;34m(\u001b[0m\u001b[0mself\u001b[0m\u001b[0;34m,\u001b[0m \u001b[0mi\u001b[0m\u001b[0;34m)\u001b[0m\u001b[0;34m:\u001b[0m\u001b[0;34m\u001b[0m\u001b[0m\n",
      "\u001b[0m\n"
     ]
    },
    {
     "name": "stdin",
     "output_type": "stream",
     "text": [
      "ipdb>  [o.tfm_y for o in self.transform_class.tfms]\n"
     ]
    },
    {
     "name": "stdout",
     "output_type": "stream",
     "text": [
      "[<TfmType.NO: 1>, <TfmType.NO: 1>, <TfmType.NO: 1>, <TfmType.NO: 1>, <TfmType.NO: 1>, <TfmType.NO: 1>, <TfmType.NO: 1>, <TfmType.NO: 1>]\n"
     ]
    },
    {
     "name": "stdin",
     "output_type": "stream",
     "text": [
      "ipdb>  [o.tfm_y for o in self.transform_no.tfms]\n"
     ]
    },
    {
     "name": "stdout",
     "output_type": "stream",
     "text": [
      "[<TfmType.NO: 1>, <TfmType.NO: 1>, <TfmType.NO: 1>, <TfmType.NO: 1>, <TfmType.NO: 1>, <TfmType.NO: 1>, <TfmType.NO: 1>, <TfmType.NO: 1>]\n"
     ]
    }
   ],
   "source": [
    "%run train_cm {str(path_x_512_1)} {str(path_x_512_2)} {str(path_y_512)} {str(PATH)} {str(path_stats)}\\\n",
    "    {bs} {sz} {gpu_start} --world_size={world_size} --path_test_x_1={path_test_x_512_1} --path_test_x_2={path_test_x_512_2}\\\n",
    "    --path_test_y={path_y_512} --num_workers={num_workers}"
   ]
  },
  {
   "cell_type": "markdown",
   "metadata": {},
   "source": [
    "## Test data"
   ]
  },
  {
   "cell_type": "code",
   "execution_count": 5,
   "metadata": {},
   "outputs": [],
   "source": [
    "from baseline_direct_subtraction import *\n",
    "names = [o.split('/')[-1][5:-4] for o in md17.test_ds.fn_x]\n",
    "save_path_17 = PATH/'baseline_direct_subtraction/17_8ch_final'; save_path_17.mkdir(exist_ok=True)\n",
    "save_path_18 = PATH/'baseline_direct_subtraction/18_8ch_final'; save_path_18.mkdir(exist_ok=True)"
   ]
  },
  {
   "cell_type": "code",
   "execution_count": 13,
   "metadata": {},
   "outputs": [
    {
     "data": {
      "application/vnd.jupyter.widget-view+json": {
       "model_id": "1f35bbf7a24f4c6081c541b1bcb81dee",
       "version_major": 2,
       "version_minor": 0
      },
      "text/plain": [
       "HBox(children=(IntProgress(value=0, description='prediction', max=3000), HTML(value='')))"
      ]
     },
     "metadata": {},
     "output_type": "display_data"
    },
    {
     "name": "stdout",
     "output_type": "stream",
     "text": [
      "waiting for writing to disk\n",
      "CPU times: user 32min 58s, sys: 2min 36s, total: 35min 34s\n",
      "Wall time: 1min 23s\n"
     ]
    }
   ],
   "source": [
    "# %%time\n",
    "# save_preds(learner, md17.test_dl, save_path_17, names, num_workers=40)"
   ]
  },
  {
   "cell_type": "code",
   "execution_count": 14,
   "metadata": {},
   "outputs": [
    {
     "data": {
      "application/vnd.jupyter.widget-view+json": {
       "model_id": "0f7485cd81d141e8808ce3dd1c7b6800",
       "version_major": 2,
       "version_minor": 0
      },
      "text/plain": [
       "HBox(children=(IntProgress(value=0, description='prediction', max=3000), HTML(value='')))"
      ]
     },
     "metadata": {},
     "output_type": "display_data"
    },
    {
     "name": "stdout",
     "output_type": "stream",
     "text": [
      "waiting for writing to disk\n",
      "CPU times: user 34min 3s, sys: 2min 37s, total: 36min 41s\n",
      "Wall time: 1min 13s\n"
     ]
    }
   ],
   "source": [
    "# %%time\n",
    "# save_preds(learner, md18.test_dl, save_path_18, names, num_workers=80)"
   ]
  },
  {
   "cell_type": "code",
   "execution_count": 6,
   "metadata": {},
   "outputs": [],
   "source": [
    "# %%time\n",
    "fns_p1, fns_p2 = np.array(sorted(save_path_17.glob('*.npz'))), np.array(sorted(save_path_18.glob('*.npz')))\n",
    "# overlap_rank = rank_overlap(fns_p1, fns_p2, max_workers=16)\n",
    "# np.save(str(PATH/'overlap_rank'), overlap_rank)\n",
    "overlap_rank = np.load(str(PATH/'overlap_rank.npy'))\n",
    "fns_p_ranked_1, fns_p_ranked_2 = fns_p1[overlap_rank], fns_p2[overlap_rank]\n",
    "fns_ims_ranked_1, fns_ims_ranked_2 = np.array(md17.test_ds.fn_x)[overlap_rank], np.array(md18.test_ds.fn_x)[overlap_rank]"
   ]
  },
  {
   "cell_type": "markdown",
   "metadata": {},
   "source": [
    "## Everything related to buildings"
   ]
  },
  {
   "cell_type": "code",
   "execution_count": 7,
   "metadata": {},
   "outputs": [],
   "source": [
    "from baseline_direct_subtraction import *"
   ]
  },
  {
   "cell_type": "code",
   "execution_count": 21,
   "metadata": {},
   "outputs": [
    {
     "name": "stdout",
     "output_type": "stream",
     "text": [
      "CPU times: user 13.3 s, sys: 29.4 s, total: 42.8 s\n",
      "Wall time: 1min 9s\n"
     ]
    }
   ],
   "source": [
    "%%time\n",
    "mask_fn_buildings_related = filter_related_to_class(fns_p_ranked_1, fns_p_ranked_2, 3, threshold=0.65)"
   ]
  },
  {
   "cell_type": "code",
   "execution_count": 26,
   "metadata": {},
   "outputs": [],
   "source": [
    "fns_ims_buildings1, fns_ims_buildings2 = fns_ims_ranked_1[mask_fn_buildings_related], fns_ims_ranked_2[mask_fn_buildings_related]\n",
    "fns_p_buildings1, fns_p_buildings2 = fns_p_ranked_1[mask_fn_buildings_related], fns_p_ranked_2[mask_fn_buildings_related]"
   ]
  },
  {
   "cell_type": "code",
   "execution_count": null,
   "metadata": {},
   "outputs": [],
   "source": [
    "N = 20\n",
    "for i in range(0, len(fns_ims_buildings1), N):\n",
    "# for i in range(0, N, N):\n",
    "    old, new, blended, classes_with_biggest_area = most_prominent_difference_fns(fns_ims_buildings1[i:i+N], fns_p_buildings1[i:i+N],\n",
    "                                                                                 fns_ims_buildings2[i:i+N], fns_p_buildings2[i:i+N],\n",
    "                                                                                 alpha=0.7, threshold=0.6)\n",
    "    (rgb_old, color_old), (rgb_new, color_new), (blend_old, blend_new) = old, new, blended\n",
    "    \n",
    "    additional_titles = [f'{a_labels[o1]}=>{a_labels[o2]}' for (o1, o2) in zip(*classes_with_biggest_area)]\n",
    "    plot_blended_with_rgb(rgb_old, rgb_new, blend_old, additional_titles=additional_titles, legend=a_labels)"
   ]
  },
  {
   "cell_type": "code",
   "execution_count": 59,
   "metadata": {},
   "outputs": [],
   "source": [
    "# transformations\n",
    "tfm_y, tfm_y_n = TfmType.CLASS, TfmType.NO\n",
    "aug_tfms = [o for o in transforms_top_down]\n",
    "aug_tfms.append(Copy())\n",
    "for t in aug_tfms: t.tfm_y = tfm_y\n",
    "tfms_c = tfms_from_stats(None, sz, aug_tfms=aug_tfms, tfm_y=tfm_y, norm_y=False)\n",
    "tfms_n = tfms_from_stats(None, sz, aug_tfms=aug_tfms, tfm_y=tfm_y_n, norm_y=False)\n",
    "for o in tfms_c: o.tfms.append(Copy()) # fix pytorch negative error\n",
    "for o in tfms_n: o.tfms.append(Copy()) # fix pytorch negative error"
   ]
  },
  {
   "cell_type": "code",
   "execution_count": 16,
   "metadata": {},
   "outputs": [
    {
     "data": {
      "text/plain": [
       "[<TfmType.NO: 1>, <TfmType.NO: 1>, <TfmType.NO: 1>]"
      ]
     },
     "execution_count": 16,
     "metadata": {},
     "output_type": "execute_result"
    }
   ],
   "source": [
    "[o.tfm_y for o in transforms_top_down]"
   ]
  },
  {
   "cell_type": "code",
   "execution_count": 8,
   "metadata": {},
   "outputs": [],
   "source": [
    "aug_tfms = [o for o in transforms_top_down]\n",
    "tfms_c = tfms_from_stats(None, sz, aug_tfms=aug_tfms, tfm_y=TfmType.CLASS, norm_y=False)"
   ]
  },
  {
   "cell_type": "code",
   "execution_count": 20,
   "metadata": {},
   "outputs": [
    {
     "data": {
      "text/plain": [
       "[<TfmType.CLASS: 4>,\n",
       " <TfmType.NO: 1>,\n",
       " <TfmType.NO: 1>,\n",
       " <TfmType.NO: 1>,\n",
       " <TfmType.CLASS: 4>,\n",
       " <TfmType.CLASS: 4>]"
      ]
     },
     "execution_count": 20,
     "metadata": {},
     "output_type": "execute_result"
    }
   ],
   "source": [
    "t = tfms_c[0]\n",
    "[o.tfm_y for o in t.tfms]"
   ]
  },
  {
   "cell_type": "code",
   "execution_count": 78,
   "metadata": {},
   "outputs": [
    {
     "name": "stdout",
     "output_type": "stream",
     "text": [
      "<fastai.transforms.Scale object at 0x7f896b910128> TfmType.NO\n",
      "<fastai.transforms.RandomRotate object at 0x7f896bf78b70> TfmType.CLASS\n",
      "<fastai.transforms.RandomLighting object at 0x7f896bf78be0> TfmType.CLASS\n",
      "<fastai.transforms.RandomDihedral object at 0x7f896bf78c88> TfmType.CLASS\n",
      "<utils.misc.Copy object at 0x7f896bc50588> TfmType.CLASS\n",
      "<fastai.transforms.RandomCrop object at 0x7f896b910ba8> TfmType.NO\n",
      "<fastai.transforms.ChannelOrder object at 0x7f896b9104a8> TfmType.NO\n"
     ]
    }
   ],
   "source": [
    "t = tfms_c[]\n",
    "for o in t.tfms: print(o, o.tfm_y)"
   ]
  },
  {
   "cell_type": "code",
   "execution_count": null,
   "metadata": {},
   "outputs": [],
   "source": []
  }
 ],
 "metadata": {
  "kernelspec": {
   "display_name": "Python 3",
   "language": "python",
   "name": "python3"
  },
  "language_info": {
   "codemirror_mode": {
    "name": "ipython",
    "version": 3
   },
   "file_extension": ".py",
   "mimetype": "text/x-python",
   "name": "python",
   "nbconvert_exporter": "python",
   "pygments_lexer": "ipython3",
   "version": "3.6.6"
  }
 },
 "nbformat": 4,
 "nbformat_minor": 2
}
